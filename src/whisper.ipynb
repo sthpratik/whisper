{
 "cells": [
  {
   "cell_type": "code",
   "execution_count": 13,
   "metadata": {},
   "outputs": [
    {
     "name": "stdout",
     "output_type": "stream",
     "text": [
      "Requirement already satisfied: flask in /Users/pratikshrestha/anaconda3/lib/python3.11/site-packages (2.2.2)\n",
      "Requirement already satisfied: openai-whisper in /Users/pratikshrestha/anaconda3/lib/python3.11/site-packages (20240930)\n",
      "Requirement already satisfied: pyaudio in /Users/pratikshrestha/anaconda3/lib/python3.11/site-packages (0.2.14)\n",
      "Requirement already satisfied: numpy in /Users/pratikshrestha/anaconda3/lib/python3.11/site-packages (1.26.4)\n",
      "Requirement already satisfied: soundfile in /Users/pratikshrestha/anaconda3/lib/python3.11/site-packages (0.13.1)\n",
      "Collecting ffmpeg-python\n",
      "  Obtaining dependency information for ffmpeg-python from https://files.pythonhosted.org/packages/d7/0c/56be52741f75bad4dc6555991fabd2e07b432d333da82c11ad701123888a/ffmpeg_python-0.2.0-py3-none-any.whl.metadata\n",
      "  Downloading ffmpeg_python-0.2.0-py3-none-any.whl.metadata (1.7 kB)\n",
      "Requirement already satisfied: Werkzeug>=2.2.2 in /Users/pratikshrestha/anaconda3/lib/python3.11/site-packages (from flask) (2.2.3)\n",
      "Requirement already satisfied: Jinja2>=3.0 in /Users/pratikshrestha/anaconda3/lib/python3.11/site-packages (from flask) (3.1.2)\n",
      "Requirement already satisfied: itsdangerous>=2.0 in /Users/pratikshrestha/anaconda3/lib/python3.11/site-packages (from flask) (2.0.1)\n",
      "Requirement already satisfied: click>=8.0 in /Users/pratikshrestha/anaconda3/lib/python3.11/site-packages (from flask) (8.0.4)\n",
      "Requirement already satisfied: numba in /Users/pratikshrestha/anaconda3/lib/python3.11/site-packages (from openai-whisper) (0.61.0)\n",
      "Requirement already satisfied: torch in /Users/pratikshrestha/anaconda3/lib/python3.11/site-packages (from openai-whisper) (2.2.2)\n",
      "Requirement already satisfied: tqdm in /Users/pratikshrestha/anaconda3/lib/python3.11/site-packages (from openai-whisper) (4.67.1)\n",
      "Requirement already satisfied: more-itertools in /Users/pratikshrestha/anaconda3/lib/python3.11/site-packages (from openai-whisper) (8.12.0)\n",
      "Requirement already satisfied: tiktoken in /Users/pratikshrestha/anaconda3/lib/python3.11/site-packages (from openai-whisper) (0.8.0)\n",
      "Requirement already satisfied: cffi>=1.0 in /Users/pratikshrestha/anaconda3/lib/python3.11/site-packages (from soundfile) (1.15.1)\n",
      "Requirement already satisfied: future in /Users/pratikshrestha/anaconda3/lib/python3.11/site-packages (from ffmpeg-python) (1.0.0)\n",
      "Requirement already satisfied: pycparser in /Users/pratikshrestha/anaconda3/lib/python3.11/site-packages (from cffi>=1.0->soundfile) (2.21)\n",
      "Requirement already satisfied: MarkupSafe>=2.0 in /Users/pratikshrestha/anaconda3/lib/python3.11/site-packages (from Jinja2>=3.0->flask) (2.1.1)\n",
      "Requirement already satisfied: llvmlite<0.45,>=0.44.0dev0 in /Users/pratikshrestha/anaconda3/lib/python3.11/site-packages (from numba->openai-whisper) (0.44.0)\n",
      "Requirement already satisfied: regex>=2022.1.18 in /Users/pratikshrestha/anaconda3/lib/python3.11/site-packages (from tiktoken->openai-whisper) (2022.7.9)\n",
      "Requirement already satisfied: requests>=2.26.0 in /Users/pratikshrestha/anaconda3/lib/python3.11/site-packages (from tiktoken->openai-whisper) (2.32.3)\n",
      "Requirement already satisfied: filelock in /Users/pratikshrestha/anaconda3/lib/python3.11/site-packages (from torch->openai-whisper) (3.9.0)\n",
      "Requirement already satisfied: typing-extensions>=4.8.0 in /Users/pratikshrestha/anaconda3/lib/python3.11/site-packages (from torch->openai-whisper) (4.12.2)\n",
      "Requirement already satisfied: sympy in /Users/pratikshrestha/anaconda3/lib/python3.11/site-packages (from torch->openai-whisper) (1.11.1)\n",
      "Requirement already satisfied: networkx in /Users/pratikshrestha/anaconda3/lib/python3.11/site-packages (from torch->openai-whisper) (3.4.2)\n",
      "Requirement already satisfied: fsspec in /Users/pratikshrestha/anaconda3/lib/python3.11/site-packages (from torch->openai-whisper) (2024.6.1)\n",
      "Requirement already satisfied: charset-normalizer<4,>=2 in /Users/pratikshrestha/anaconda3/lib/python3.11/site-packages (from requests>=2.26.0->tiktoken->openai-whisper) (2.0.4)\n",
      "Requirement already satisfied: idna<4,>=2.5 in /Users/pratikshrestha/anaconda3/lib/python3.11/site-packages (from requests>=2.26.0->tiktoken->openai-whisper) (3.4)\n",
      "Requirement already satisfied: urllib3<3,>=1.21.1 in /Users/pratikshrestha/anaconda3/lib/python3.11/site-packages (from requests>=2.26.0->tiktoken->openai-whisper) (1.26.16)\n",
      "Requirement already satisfied: certifi>=2017.4.17 in /Users/pratikshrestha/anaconda3/lib/python3.11/site-packages (from requests>=2.26.0->tiktoken->openai-whisper) (2024.12.14)\n",
      "Requirement already satisfied: mpmath>=0.19 in /Users/pratikshrestha/anaconda3/lib/python3.11/site-packages (from sympy->torch->openai-whisper) (1.3.0)\n",
      "Downloading ffmpeg_python-0.2.0-py3-none-any.whl (25 kB)\n",
      "Installing collected packages: ffmpeg-python\n",
      "Successfully installed ffmpeg-python-0.2.0\n",
      "Note: you may need to restart the kernel to use updated packages.\n"
     ]
    }
   ],
   "source": [
    "#%pip install flask openai-whisper pyaudio numpy soundfile ffmpeg-python tkinter\n",
    "#%pip install setuptools-rust\n",
    "import whisper\n",
    "import numpy as np\n",
    "import tempfile\n",
    "import soundfile as sf\n",
    "import pyaudio\n",
    "import tkinter as tk\n",
    "from tkinter import messagebox"
   ]
  },
  {
   "cell_type": "code",
   "execution_count": 6,
   "metadata": {},
   "outputs": [],
   "source": [
    "# Load Whisper model (you can use \"tiny\", \"base\", \"small\", \"medium\", or \"large\")\n",
    "model = whisper.load_model(\"small\")"
   ]
  },
  {
   "cell_type": "code",
   "execution_count": 7,
   "metadata": {},
   "outputs": [],
   "source": [
    "# Audio configuration\n",
    "FORMAT = pyaudio.paInt16\n",
    "CHANNELS = 1\n",
    "RATE = 16000  # Whisper works best at 16kHz\n",
    "CHUNK = 1024  # Buffer size\n",
    "\n",
    "# Initialize PyAudio\n",
    "audio = pyaudio.PyAudio()\n",
    "stream = None\n",
    "frames = []\n",
    "recording = False\n",
    "\n",
    "def start_recording():\n",
    "    \"\"\"Start recording audio from the microphone.\"\"\"\n",
    "    global stream, frames, recording\n",
    "    frames = []\n",
    "    recording = True\n",
    "    stream = audio.open(format=FORMAT, channels=CHANNELS,\n",
    "                        rate=RATE, input=True,\n",
    "                        frames_per_buffer=CHUNK)\n",
    "    status_label.config(text=\"Recording... Speak now!\", fg=\"red\")\n",
    "    record_audio()\n",
    "\n",
    "def record_audio():\n",
    "    \"\"\"Capture audio in the background.\"\"\"\n",
    "    global recording\n",
    "    if recording:\n",
    "        data = stream.read(CHUNK)\n",
    "        frames.append(np.frombuffer(data, dtype=np.int16))\n",
    "        root.after(10, record_audio)  # Schedule next audio chunk\n",
    "\n",
    "def stop_recording():\n",
    "    \"\"\"Stop recording and save audio, then transcribe.\"\"\"\n",
    "    global recording, stream\n",
    "    recording = False\n",
    "    stream.stop_stream()\n",
    "    stream.close()\n",
    "    \n",
    "    # Save recorded data to a temporary WAV file\n",
    "    temp_wav = tempfile.NamedTemporaryFile(delete=False, suffix=\".wav\")\n",
    "    sf.write(temp_wav.name, np.concatenate(frames), RATE, format='WAV')\n",
    "\n",
    "    status_label.config(text=\"Transcribing...\", fg=\"blue\")\n",
    "    root.after(100, lambda: transcribe_audio(temp_wav.name))\n",
    "\n",
    "def transcribe_audio(audio_file):\n",
    "    \"\"\"Transcribe the recorded audio using Whisper.\"\"\"\n",
    "    result = model.transcribe(audio_file)\n",
    "    transcription_text.set(result[\"text\"])\n",
    "    status_label.config(text=\"Transcription Complete!\", fg=\"green\")\n"
   ]
  },
  {
   "cell_type": "code",
   "execution_count": 8,
   "metadata": {},
   "outputs": [],
   "source": [
    "# if __name__ == \"__main__\":\n",
    "#     while True:\n",
    "#         audio_file = record_audio()\n",
    "#         print(\"Transcribing...\")\n",
    "#         transcript = transcribe_audio(audio_file)\n",
    "#         print(f\"Transcription: {transcript}\\n\")"
   ]
  },
  {
   "cell_type": "code",
   "execution_count": 12,
   "metadata": {},
   "outputs": [
    {
     "name": "stderr",
     "output_type": "stream",
     "text": [
      "/Users/pratikshrestha/anaconda3/lib/python3.11/site-packages/whisper/transcribe.py:126: UserWarning: FP16 is not supported on CPU; using FP32 instead\n",
      "  warnings.warn(\"FP16 is not supported on CPU; using FP32 instead\")\n",
      "/Users/pratikshrestha/anaconda3/lib/python3.11/site-packages/whisper/transcribe.py:126: UserWarning: FP16 is not supported on CPU; using FP32 instead\n",
      "  warnings.warn(\"FP16 is not supported on CPU; using FP32 instead\")\n"
     ]
    }
   ],
   "source": [
    "# GUI Setup\n",
    "root = tk.Tk()\n",
    "root.title(\"Voice Transcriber with Whisper\")\n",
    "root.geometry(\"400x300\")\n",
    "\n",
    "# Ensure the buttons are properly placed and visible\n",
    "status_label = tk.Label(root, text=\"Press 'Start' to record\", font=(\"Arial\", 12))\n",
    "status_label.pack(pady=10, fill=\"x\")\n",
    "\n",
    "start_button = tk.Button(root, text=\"Start Recording\", command=start_recording, bg=\"green\", fg=\"white\", font=(\"Arial\", 12))\n",
    "start_button.pack(pady=10, fill=\"x\")\n",
    "\n",
    "stop_button = tk.Button(root, text=\"Stop & Transcribe\", command=stop_recording, bg=\"red\", fg=\"white\", font=(\"Arial\", 12))\n",
    "stop_button.pack(pady=10, fill=\"x\")\n",
    "\n",
    "transcription_text = tk.StringVar()\n",
    "transcription_label = tk.Label(root, textvariable=transcription_text, wraplength=350, font=(\"Arial\", 12), fg=\"black\")\n",
    "transcription_label.pack(pady=20, fill=\"x\")\n",
    "\n",
    "root.mainloop()"
   ]
  }
 ],
 "metadata": {
  "kernelspec": {
   "display_name": "base",
   "language": "python",
   "name": "python3"
  },
  "language_info": {
   "codemirror_mode": {
    "name": "ipython",
    "version": 3
   },
   "file_extension": ".py",
   "mimetype": "text/x-python",
   "name": "python",
   "nbconvert_exporter": "python",
   "pygments_lexer": "ipython3",
   "version": "3.11.5"
  }
 },
 "nbformat": 4,
 "nbformat_minor": 2
}
